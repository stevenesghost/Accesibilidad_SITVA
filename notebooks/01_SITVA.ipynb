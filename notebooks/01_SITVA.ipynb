{
 "cells": [
  {
   "cell_type": "markdown",
   "metadata": {},
   "source": [
    "# 🚉 Índice Logístico de accesibilidad a SITVA\n",
    "Este notebook calcula el tiempo de acceso desde cada lote (poligono) a las estaciones del SITVA (Sistema Integrado de Transporte del Valle de Aburrá) y luego construye un índice ponderado por línea usando una función logística para penalizar los tiempos mayores."
   ]
  },
  {
   "cell_type": "markdown",
   "metadata": {},
   "source": [
    "# 1. Importación de librerías necesarias"
   ]
  },
  {
   "cell_type": "code",
   "execution_count": null,
   "metadata": {},
   "outputs": [],
   "source": [
    "import geopandas as gpd\n",
    "import pandas as pd\n",
    "import networkx as nx\n",
    "from shapely.geometry import Point\n",
    "from scipy.spatial import cKDTree"
   ]
  },
  {
   "cell_type": "markdown",
   "metadata": {},
   "source": [
    "# 2. Configuración inicial"
   ]
  },
  {
   "cell_type": "code",
   "execution_count": null,
   "metadata": {},
   "outputs": [],
   "source": [
    "# Rutas\n",
    "ruta_base = \"../data\"\n",
    "ruta_salida = \"../output\"\n",
    "archivo_lotes = ruta_base + \"Lotes.shp\"\n",
    "archivo_estaciones = ruta_base + \"sitva_estaciones.gpkg\"\n",
    "archivo_nodes = ruta_base + \"nodes.gpkg\"\n",
    "archivo_edges = ruta_base + \"edges.gpkg\""
   ]
  },
  {
   "cell_type": "markdown",
   "metadata": {},
   "source": [
    "# 3. Carga de archivos"
   ]
  },
  {
   "cell_type": "code",
   "execution_count": null,
   "metadata": {},
   "outputs": [],
   "source": [
    "# Cargar geodatos\n",
    "gdf_lotes = gpd.read_file(archivo_lotes)\n",
    "gdf_estaciones = gpd.read_file(archivo_estaciones)\n",
    "gdf_nodes = gpd.read_file(archivo_nodes)\n",
    "gdf_edges = gpd.read_file(archivo_edges)"
   ]
  },
  {
   "cell_type": "markdown",
   "metadata": {},
   "source": [
    "# 4. Proyección a coordenadas métricas (UTM)"
   ]
  },
  {
   "cell_type": "code",
   "execution_count": null,
   "metadata": {},
   "outputs": [],
   "source": [
    "# Reproyección a UTM y corrección geometrías\n",
    "crs_utm = 32618\n",
    "gdf_lotes = gdf_lotes.to_crs(crs_utm)\n",
    "gdf_nodes = gdf_nodes.to_crs(crs_utm)\n",
    "gdf_edges = gdf_edges.to_crs(crs_utm)\n",
    "gdf_estaciones = gdf_estaciones.to_crs(crs_utm)\n",
    "gdf_lotes[\"geometry\"] = gdf_lotes[\"geometry\"].buffer(0)"
   ]
  },
  {
   "cell_type": "markdown",
   "metadata": {},
   "source": [
    "# 5. Filtro de estaciones SITVA dentro del rango de análisis."
   ]
  },
  {
   "cell_type": "code",
   "execution_count": null,
   "metadata": {},
   "outputs": [],
   "source": [
    "# Asignar nodos más cercanos a lotes y estaciones\n",
    "gdf_lotes[\"centroide\"] = gdf_lotes.geometry.centroid\n",
    "tree = cKDTree(list(zip(gdf_nodes.geometry.x, gdf_nodes.geometry.y)))\n",
    "gdf_lotes[\"nodo_lote\"] = gdf_nodes.iloc[tree.query(list(zip(gdf_lotes[\"centroide\"].x, gdf_lotes[\"centroide\"].y)))[1]][\"osmid\"].values\n",
    "\n",
    "contorno_lotes = gdf_lotes.unary_union.convex_hull\n",
    "estaciones_dentro = gdf_estaciones[gdf_estaciones.within(contorno_lotes)]\n",
    "coords_estaciones = list(zip(estaciones_dentro.geometry.x, estaciones_dentro.geometry.y))\n",
    "idx_estaciones = tree.query(coords_estaciones)[1]\n",
    "estaciones_dentro[\"nodo_estacion\"] = gdf_nodes.iloc[idx_estaciones][\"osmid\"].values"
   ]
  },
  {
   "cell_type": "markdown",
   "metadata": {},
   "source": [
    "# 6. Construcción de red dirigida con tiempos peatonales"
   ]
  },
  {
   "cell_type": "code",
   "execution_count": null,
   "metadata": {},
   "outputs": [],
   "source": [
    "# Crear grafo dirigido con pesos en tiempo\n",
    "G = nx.DiGraph()\n",
    "for _, row in gdf_edges.iterrows():\n",
    "    G.add_edge(row[\"u\"], row[\"v\"], weight=row[\"tiempo_min_peaton\"])"
   ]
  },
  {
   "cell_type": "markdown",
   "metadata": {},
   "source": [
    "# 7. Crear columnas tiempos"
   ]
  },
  {
   "cell_type": "code",
   "execution_count": null,
   "metadata": {},
   "outputs": [],
   "source": [
    "# Mapeo de estaciones a columnas\n",
    "estacion_column_map = {}\n",
    "for _, row in estaciones_dentro.iterrows():\n",
    "    nombre = row[\"nombre\"].replace(\" \", \"_\")\n",
    "    linea = row[\"linea\"].replace(\" \", \"_\")\n",
    "    columna = f\"{nombre}_{linea}\"\n",
    "    estacion_column_map[columna] = row[\"nodo_estacion\"]"
   ]
  },
  {
   "cell_type": "markdown",
   "metadata": {},
   "source": [
    "# 8. Calcular tiempos desde cada lote a cada estación SITVA."
   ]
  },
  {
   "cell_type": "code",
   "execution_count": null,
   "metadata": {},
   "outputs": [],
   "source": [
    "# Calcular tiempos a estaciones desde cada lote\n",
    "def calcular_tiempos(nodo_lote):\n",
    "    try:\n",
    "        tiempos = nx.single_source_dijkstra_path_length(G, nodo_lote, weight=\"weight\")\n",
    "        return {nombre_col: tiempos.get(nodo_est, None) for nombre_col, nodo_est in estacion_column_map.items()}\n",
    "    except:\n",
    "        return {nombre_col: None for nombre_col in estacion_column_map.keys()}\n",
    "\n",
    "df_tiempos = gdf_lotes[\"nodo_lote\"].apply(calcular_tiempos).apply(pd.Series)"
   ]
  },
  {
   "cell_type": "markdown",
   "metadata": {},
   "source": [
    "# 9. Unir tiempos y lotes"
   ]
  },
  {
   "cell_type": "code",
   "execution_count": null,
   "metadata": {},
   "outputs": [],
   "source": [
    "# Unir tiempos con los lotes\n",
    "proximidad = pd.concat([gdf_lotes.drop(columns=[\"centroide\"]), df_tiempos], axis=1)"
   ]
  },
  {
   "cell_type": "markdown",
   "metadata": {},
   "source": [
    "# 10. Calcular Índice"
   ]
  },
  {
   "cell_type": "code",
   "execution_count": null,
   "metadata": {},
   "outputs": [],
   "source": [
    "# Calcular índice logístico SITVA\n",
    "import numpy as np\n",
    "\n",
    "columnas_tiempo = [col for col in proximidad.columns if \"Línea\" in col or any(linea in col for linea in [\"A\", \"B\", \"J\", \"K\", \"L\", \"M\", \"H\", \"P\", \"T\", \"1\", \"2\"])]\n",
    "\n",
    "pesos_linea = {\n",
    "    \"A\": 1.00, \"B\": 0.39, \"K\": 0.07, \"J\": 0.07, \"H\": 0.04, \"M\": 0.06,\n",
    "    \"P\": 0.09, \"1\": 0.07, \"2\": 0.03, \"T\": 0.09, \"T-A\": 0.09, \"L\": 0.01\n",
    "}\n",
    "\n",
    "# Pesos por estación completa\n",
    "pesos_estaciones = {}\n",
    "for col in columnas_tiempo:\n",
    "    linea = col.split(\"_\")[-1]\n",
    "    if linea in pesos_linea:\n",
    "        pesos_estaciones[col] = pesos_linea[linea]\n",
    "    else:\n",
    "        print(f\"[ADVERTENCIA] Línea no encontrada en diccionario: {linea}\")\n",
    "\n",
    "def calcular_indice_logistico(fila):\n",
    "    total = 0\n",
    "    for col in columnas_tiempo:\n",
    "        tiempo = fila[col]\n",
    "        if pd.notna(tiempo):\n",
    "            peso_base = pesos_estaciones.get(col, 0)\n",
    "            penalizacion = 1 / (1 + np.exp((tiempo - 12)/3))\n",
    "            total += peso_base * penalizacion\n",
    "    return total\n",
    "\n",
    "proximidad[\"tiempo_min\"] = proximidad[columnas_tiempo].min(axis=1)\n",
    "proximidad[\"estacion_mas_cercana\"] = proximidad[columnas_tiempo].idxmin(axis=1)\n",
    "proximidad[\"indice_accesibilidad_SITVA\"] = proximidad.apply(calcular_indice_logistico, axis=1)"
   ]
  },
  {
   "cell_type": "code",
   "execution_count": null,
   "metadata": {},
   "outputs": [],
   "source": [
    "# Asegurarse de que el DataFrame sea un GeoDataFrame y tenga geometría válida\n",
    "proximidad = gpd.GeoDataFrame(proximidad, geometry=\"geometry\", crs=gdf_lotes.crs)\n",
    "\n",
    "# Ruta de salida\n",
    "salida_final = ruta_salida + \"lotes_accesibilidad_sitva.gpkg\"\n",
    "\n",
    "# Guardar en GeoPackage\n",
    "proximidad.to_file(salida_final, layer=\"lotes\", driver=\"GPKG\")\n",
    "\n",
    "print(f\"✅ Archivo exportado exitosamente a: {salida_final}\")\n"
   ]
  }
 ],
 "metadata": {
  "kernelspec": {
   "display_name": "Python 3 (ipykernel)",
   "language": "python",
   "name": "python3"
  },
  "language_info": {
   "codemirror_mode": {
    "name": "ipython",
    "version": 3
   },
   "file_extension": ".py",
   "mimetype": "text/x-python",
   "name": "python",
   "nbconvert_exporter": "python",
   "pygments_lexer": "ipython3",
   "version": "3.12.6"
  }
 },
 "nbformat": 4,
 "nbformat_minor": 4
}
